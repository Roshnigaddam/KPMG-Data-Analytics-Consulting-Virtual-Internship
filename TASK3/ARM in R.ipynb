{
 "cells": [
  {
   "cell_type": "code",
   "execution_count": 1,
   "metadata": {},
   "outputs": [
    {
     "name": "stderr",
     "output_type": "stream",
     "text": [
      "Installing package into 'C:/Users/Roshni Gaddam/Documents/R/win-library/3.6'\n",
      "(as 'lib' is unspecified)\n"
     ]
    },
    {
     "name": "stdout",
     "output_type": "stream",
     "text": [
      "package 'arules' successfully unpacked and MD5 sums checked\n",
      "\n",
      "The downloaded binary packages are in\n",
      "\tC:\\Users\\Roshni Gaddam\\AppData\\Local\\Temp\\RtmpeeLhFt\\downloaded_packages\n"
     ]
    },
    {
     "name": "stderr",
     "output_type": "stream",
     "text": [
      "Warning message:\n",
      "\"package 'arules' was built under R version 3.6.3\"Loading required package: Matrix\n",
      "Warning message:\n",
      "\"package 'Matrix' was built under R version 3.6.3\"\n",
      "Attaching package: 'arules'\n",
      "\n",
      "The following objects are masked from 'package:base':\n",
      "\n",
      "    abbreviate, write\n",
      "\n"
     ]
    }
   ],
   "source": [
    "#install and load package arules\n",
    "install.packages(\"arules\")\n",
    "library(arules)\n",
    "\n"
   ]
  },
  {
   "cell_type": "code",
   "execution_count": 3,
   "metadata": {},
   "outputs": [
    {
     "name": "stderr",
     "output_type": "stream",
     "text": [
      "Warning message in asMethod(object):\n",
      "\"removing duplicated items in transactions\""
     ]
    }
   ],
   "source": [
    "tr <- read.transactions('C:\\aprioriinr2.csv', format = 'basket', sep=',')\n",
    "#sep tell how items are separated. In this case you have separated using ','"
   ]
  },
  {
   "cell_type": "code",
   "execution_count": 4,
   "metadata": {},
   "outputs": [
    {
     "data": {
      "text/plain": [
       "transactions in sparse format with\n",
       " 786 transactions (rows) and\n",
       " 20 items (columns)"
      ]
     },
     "metadata": {},
     "output_type": "display_data"
    }
   ],
   "source": [
    "tr"
   ]
  },
  {
   "cell_type": "code",
   "execution_count": 5,
   "metadata": {},
   "outputs": [
    {
     "data": {
      "text/plain": [
       "transactions as itemMatrix in sparse format with\n",
       " 786 rows (elements/itemsets/transactions) and\n",
       " 20 columns (items) and a density of 0.2223919 \n",
       "\n",
       "most frequent items:\n",
       "         Solex       WeareA2B Giant Bicycles  Trek Bicycles     OHM Cycles \n",
       "           650            603            585            571            545 \n",
       "       (Other) \n",
       "           542 \n",
       "\n",
       "element (itemset/transaction) length distribution:\n",
       "sizes\n",
       "  2   3   4   5   6  14 \n",
       "  6 101 297 307  74   1 \n",
       "\n",
       "   Min. 1st Qu.  Median    Mean 3rd Qu.    Max. \n",
       "  2.000   4.000   4.000   4.448   5.000  14.000 \n",
       "\n",
       "includes extended item information - examples:\n",
       "  labels\n",
       "1      0\n",
       "2      1\n",
       "3     10"
      ]
     },
     "metadata": {},
     "output_type": "display_data"
    }
   ],
   "source": [
    "summary(tr)"
   ]
  },
  {
   "cell_type": "code",
   "execution_count": 6,
   "metadata": {},
   "outputs": [
    {
     "name": "stdout",
     "output_type": "stream",
     "text": [
      "Apriori\n",
      "\n",
      "Parameter specification:\n",
      " confidence minval smax arem  aval originalSupport maxtime support minlen\n",
      "        0.2    0.1    1 none FALSE            TRUE       5    0.04      2\n",
      " maxlen target  ext\n",
      "     10  rules TRUE\n",
      "\n",
      "Algorithmic control:\n",
      " filter tree heap memopt load sort verbose\n",
      "    0.1 TRUE TRUE  FALSE TRUE    2    TRUE\n",
      "\n",
      "Absolute minimum support count: 31 \n",
      "\n",
      "set item appearances ...[0 item(s)] done [0.00s].\n",
      "set transactions ...[20 item(s), 786 transaction(s)] done [0.00s].\n",
      "sorting and recoding items ... [6 item(s)] done [0.00s].\n",
      "creating transaction tree ... done [0.00s].\n",
      "checking subsets of size 1 2 3 4 5 6 done [0.00s].\n",
      "writing ... [186 rule(s)] done [0.00s].\n",
      "creating S4 object  ... done [0.00s].\n"
     ]
    }
   ],
   "source": [
    "# Min Support as 0.001, confidence as 0.8.\n",
    "association.rules <- apriori(tr, parameter = list(supp=0.040, conf=0.20,minlen=2))"
   ]
  },
  {
   "cell_type": "code",
   "execution_count": 9,
   "metadata": {},
   "outputs": [
    {
     "name": "stdout",
     "output_type": "stream",
     "text": [
      "      lhs                 rhs                support confidence  coverage      lift count\n",
      "[1]   {Norco Bicycles} => {OHM Cycles}     0.4605598  0.6856061 0.6717557 0.9887823   362\n",
      "[2]   {OHM Cycles}     => {Norco Bicycles} 0.4605598  0.6642202 0.6933842 0.9887823   362\n",
      "[3]   {Norco Bicycles} => {Trek Bicycles}  0.4681934  0.6969697 0.6717557 0.9594014   368\n",
      "[4]   {Trek Bicycles}  => {Norco Bicycles} 0.4681934  0.6444834 0.7264631 0.9594014   368\n",
      "[5]   {Norco Bicycles} => {Giant Bicycles} 0.4910941  0.7310606 0.6717557 0.9822455   386\n",
      "[6]   {Giant Bicycles} => {Norco Bicycles} 0.4910941  0.6598291 0.7442748 0.9822455   386\n",
      "[7]   {Norco Bicycles} => {WeareA2B}       0.5038168  0.7500000 0.6717557 0.9776119   396\n",
      "[8]   {WeareA2B}       => {Norco Bicycles} 0.5038168  0.6567164 0.7671756 0.9776119   396\n",
      "[9]   {Norco Bicycles} => {Solex}          0.5394402  0.8030303 0.6717557 0.9710490   424\n",
      "[10]  {Solex}          => {Norco Bicycles} 0.5394402  0.6523077 0.8269720 0.9710490   424\n",
      "[11]  {OHM Cycles}     => {Trek Bicycles}  0.4847328  0.6990826 0.6933842 0.9623098   381\n",
      "[12]  {Trek Bicycles}  => {OHM Cycles}     0.4847328  0.6672504 0.7264631 0.9623098   381\n",
      "[13]  {OHM Cycles}     => {Giant Bicycles} 0.4987277  0.7192661 0.6933842 0.9663985   392\n",
      "[14]  {Giant Bicycles} => {OHM Cycles}     0.4987277  0.6700855 0.7442748 0.9663985   392\n",
      "[15]  {OHM Cycles}     => {WeareA2B}       0.5127226  0.7394495 0.6933842 0.9638596   403\n",
      "[16]  {WeareA2B}       => {OHM Cycles}     0.5127226  0.6683250 0.7671756 0.9638596   403\n",
      "[17]  {OHM Cycles}     => {Solex}          0.5699746  0.8220183 0.6933842 0.9940099   448\n",
      "[18]  {Solex}          => {OHM Cycles}     0.5699746  0.6892308 0.8269720 0.9940099   448\n",
      "[19]  {Trek Bicycles}  => {Giant Bicycles} 0.5254453  0.7232925 0.7264631 0.9718083   413\n",
      "[20]  {Giant Bicycles} => {Trek Bicycles}  0.5254453  0.7059829 0.7442748 0.9718083   413\n",
      "[21]  {Trek Bicycles}  => {WeareA2B}       0.5381679  0.7408056 0.7264631 0.9656272   423\n",
      "[22]  {WeareA2B}       => {Trek Bicycles}  0.5381679  0.7014925 0.7671756 0.9656272   423\n",
      "[23]  {Trek Bicycles}  => {Solex}          0.5954198  0.8196147 0.7264631 0.9911033   468\n",
      "[24]  {Solex}          => {Trek Bicycles}  0.5954198  0.7200000 0.8269720 0.9911033   468\n",
      "[25]  {Giant Bicycles} => {WeareA2B}       0.5534351  0.7435897 0.7442748 0.9692563   435\n",
      "[26]  {WeareA2B}       => {Giant Bicycles} 0.5534351  0.7213930 0.7671756 0.9692563   435\n",
      "[27]  {Giant Bicycles} => {Solex}          0.6068702  0.8153846 0.7442748 0.9859882   477\n",
      "[28]  {Solex}          => {Giant Bicycles} 0.6068702  0.7338462 0.8269720 0.9859882   477\n",
      "[29]  {WeareA2B}       => {Solex}          0.6297710  0.8208955 0.7671756 0.9926521   495\n",
      "[30]  {Solex}          => {WeareA2B}       0.6297710  0.7615385 0.8269720 0.9926521   495\n",
      "[31]  {Norco Bicycles,                                                                   \n",
      "       OHM Cycles}     => {Trek Bicycles}  0.3053435  0.6629834 0.4605598 0.9126182   240\n",
      "[32]  {Norco Bicycles,                                                                   \n",
      "       Trek Bicycles}  => {OHM Cycles}     0.3053435  0.6521739 0.4681934 0.9405664   240\n",
      "[33]  {OHM Cycles,                                                                       \n",
      "       Trek Bicycles}  => {Norco Bicycles} 0.3053435  0.6299213 0.4847328 0.9377237   240\n",
      "[34]  {Norco Bicycles,                                                                   \n",
      "       OHM Cycles}     => {Giant Bicycles} 0.3244275  0.7044199 0.4605598 0.9464513   255\n",
      "[35]  {Giant Bicycles,                                                                   \n",
      "       Norco Bicycles} => {OHM Cycles}     0.3244275  0.6606218 0.4910941 0.9527499   255\n",
      "[36]  {Giant Bicycles,                                                                   \n",
      "       OHM Cycles}     => {Norco Bicycles} 0.3244275  0.6505102 0.4987277 0.9683731   255\n",
      "[37]  {Norco Bicycles,                                                                   \n",
      "       OHM Cycles}     => {WeareA2B}       0.3346056  0.7265193 0.4605598 0.9470053   263\n",
      "[38]  {Norco Bicycles,                                                                   \n",
      "       WeareA2B}       => {OHM Cycles}     0.3346056  0.6641414 0.5038168 0.9578260   263\n",
      "[39]  {OHM Cycles,                                                                       \n",
      "       WeareA2B}       => {Norco Bicycles} 0.3346056  0.6526055 0.5127226 0.9714922   263\n",
      "[40]  {Norco Bicycles,                                                                   \n",
      "       OHM Cycles}     => {Solex}          0.3689567  0.8011050 0.4605598 0.9687208   290\n",
      "[41]  {Norco Bicycles,                                                                   \n",
      "       Solex}          => {OHM Cycles}     0.3689567  0.6839623 0.5394402 0.9864116   290\n",
      "[42]  {OHM Cycles,                                                                       \n",
      "       Solex}          => {Norco Bicycles} 0.3689567  0.6473214 0.5699746 0.9636262   290\n",
      "[43]  {Norco Bicycles,                                                                   \n",
      "       Trek Bicycles}  => {Giant Bicycles} 0.3295165  0.7038043 0.4681934 0.9456243   259\n",
      "[44]  {Giant Bicycles,                                                                   \n",
      "       Norco Bicycles} => {Trek Bicycles}  0.3295165  0.6709845 0.4910941 0.9236318   259\n",
      "[45]  {Giant Bicycles,                                                                   \n",
      "       Trek Bicycles}  => {Norco Bicycles} 0.3295165  0.6271186 0.5254453 0.9335516   259\n",
      "[46]  {Norco Bicycles,                                                                   \n",
      "       Trek Bicycles}  => {WeareA2B}       0.3346056  0.7146739 0.4681934 0.9315650   263\n",
      "[47]  {Norco Bicycles,                                                                   \n",
      "       WeareA2B}       => {Trek Bicycles}  0.3346056  0.6641414 0.5038168 0.9142122   263\n",
      "[48]  {Trek Bicycles,                                                                    \n",
      "       WeareA2B}       => {Norco Bicycles} 0.3346056  0.6217494 0.5381679 0.9255588   263\n",
      "[49]  {Norco Bicycles,                                                                   \n",
      "       Trek Bicycles}  => {Solex}          0.3702290  0.7907609 0.4681934 0.9562124   291\n",
      "[50]  {Norco Bicycles,                                                                   \n",
      "       Solex}          => {Trek Bicycles}  0.3702290  0.6863208 0.5394402 0.9447428   291\n",
      "[51]  {Solex,                                                                            \n",
      "       Trek Bicycles}  => {Norco Bicycles} 0.3702290  0.6217949 0.5954198 0.9256265   291\n",
      "[52]  {Giant Bicycles,                                                                   \n",
      "       Norco Bicycles} => {WeareA2B}       0.3575064  0.7279793 0.4910941 0.9489083   281\n",
      "[53]  {Norco Bicycles,                                                                   \n",
      "       WeareA2B}       => {Giant Bicycles} 0.3575064  0.7095960 0.5038168 0.9534059   281\n",
      "[54]  {Giant Bicycles,                                                                   \n",
      "       WeareA2B}       => {Norco Bicycles} 0.3575064  0.6459770 0.5534351 0.9616249   281\n",
      "[55]  {Giant Bicycles,                                                                   \n",
      "       Norco Bicycles} => {Solex}          0.3893130  0.7927461 0.4910941 0.9586130   306\n",
      "[56]  {Norco Bicycles,                                                                   \n",
      "       Solex}          => {Giant Bicycles} 0.3893130  0.7216981 0.5394402 0.9696662   306\n",
      "[57]  {Giant Bicycles,                                                                   \n",
      "       Solex}          => {Norco Bicycles} 0.3893130  0.6415094 0.6068702 0.9549743   306\n",
      "[58]  {Norco Bicycles,                                                                   \n",
      "       WeareA2B}       => {Solex}          0.3994911  0.7929293 0.5038168 0.9588345   314\n",
      "[59]  {Norco Bicycles,                                                                   \n",
      "       Solex}          => {WeareA2B}       0.3994911  0.7405660 0.5394402 0.9653149   314\n",
      "[60]  {Solex,                                                                            \n",
      "       WeareA2B}       => {Norco Bicycles} 0.3994911  0.6343434 0.6297710 0.9443067   314\n",
      "[61]  {OHM Cycles,                                                                       \n",
      "       Trek Bicycles}  => {Giant Bicycles} 0.3371501  0.6955381 0.4847328 0.9345178   265\n",
      "[62]  {Giant Bicycles,                                                                   \n",
      "       OHM Cycles}     => {Trek Bicycles}  0.3371501  0.6760204 0.4987277 0.9305640   265\n",
      "[63]  {Giant Bicycles,                                                                   \n",
      "       Trek Bicycles}  => {OHM Cycles}     0.3371501  0.6416465 0.5254453 0.9253837   265\n",
      "[64]  {OHM Cycles,                                                                       \n",
      "       Trek Bicycles}  => {WeareA2B}       0.3422392  0.7060367 0.4847328 0.9203066   269\n",
      "[65]  {OHM Cycles,                                                                       \n",
      "       WeareA2B}       => {Trek Bicycles}  0.3422392  0.6674938 0.5127226 0.9188268   269\n",
      "[66]  {Trek Bicycles,                                                                    \n",
      "       WeareA2B}       => {OHM Cycles}     0.3422392  0.6359338 0.5381679 0.9171449   269\n",
      "[67]  {OHM Cycles,                                                                       \n",
      "       Trek Bicycles}  => {Solex}          0.3931298  0.8110236 0.4847328 0.9807147   309\n",
      "[68]  {OHM Cycles,                                                                       \n",
      "       Solex}          => {Trek Bicycles}  0.3931298  0.6897321 0.5699746 0.9494386   309\n",
      "[69]  {Solex,                                                                            \n",
      "       Trek Bicycles}  => {OHM Cycles}     0.3931298  0.6602564 0.5954198 0.9522230   309\n",
      "[70]  {Giant Bicycles,                                                                   \n",
      "       OHM Cycles}     => {WeareA2B}       0.3460560  0.6938776 0.4987277 0.9044573   272\n",
      "[71]  {OHM Cycles,                                                                       \n",
      "       WeareA2B}       => {Giant Bicycles} 0.3460560  0.6749380 0.5127226 0.9068397   272\n",
      "[72]  {Giant Bicycles,                                                                   \n",
      "       WeareA2B}       => {OHM Cycles}     0.3460560  0.6252874 0.5534351 0.9017906   272\n",
      "[73]  {Giant Bicycles,                                                                   \n",
      "       OHM Cycles}     => {Solex}          0.4007634  0.8035714 0.4987277 0.9717033   315\n",
      "[74]  {OHM Cycles,                                                                       \n",
      "       Solex}          => {Giant Bicycles} 0.4007634  0.7031250 0.5699746 0.9447115   315\n",
      "[75]  {Giant Bicycles,                                                                   \n",
      "       Solex}          => {OHM Cycles}     0.4007634  0.6603774 0.6068702 0.9523974   315\n",
      "[76]  {OHM Cycles,                                                                       \n",
      "       WeareA2B}       => {Solex}          0.4185751  0.8163772 0.5127226 0.9871884   329\n",
      "[77]  {OHM Cycles,                                                                       \n",
      "       Solex}          => {WeareA2B}       0.4185751  0.7343750 0.5699746 0.9572450   329\n",
      "[78]  {Solex,                                                                            \n",
      "       WeareA2B}       => {OHM Cycles}     0.4185751  0.6646465 0.6297710 0.9585544   329\n",
      "[79]  {Giant Bicycles,                                                                   \n",
      "       Trek Bicycles}  => {WeareA2B}       0.3715013  0.7070218 0.5254453 0.9215906   292\n",
      "[80]  {Trek Bicycles,                                                                    \n",
      "       WeareA2B}       => {Giant Bicycles} 0.3715013  0.6903073 0.5381679 0.9274898   292\n",
      "[81]  {Giant Bicycles,                                                                   \n",
      "       WeareA2B}       => {Trek Bicycles}  0.3715013  0.6712644 0.5534351 0.9240172   292\n",
      "[82]  {Giant Bicycles,                                                                   \n",
      "       Trek Bicycles}  => {Solex}          0.4185751  0.7966102 0.5254453 0.9632855   329\n",
      "[83]  {Solex,                                                                            \n",
      "       Trek Bicycles}  => {Giant Bicycles} 0.4185751  0.7029915 0.5954198 0.9445321   329\n",
      "[84]  {Giant Bicycles,                                                                   \n",
      "       Solex}          => {Trek Bicycles}  0.4185751  0.6897275 0.6068702 0.9494322   329\n",
      "[85]  {Trek Bicycles,                                                                    \n",
      "       WeareA2B}       => {Solex}          0.4389313  0.8156028 0.5381679 0.9862520   345\n",
      "[86]  {Solex,                                                                            \n",
      "       Trek Bicycles}  => {WeareA2B}       0.4389313  0.7371795 0.5954198 0.9609006   345\n",
      "[87]  {Solex,                                                                            \n",
      "       WeareA2B}       => {Trek Bicycles}  0.4389313  0.6969697 0.6297710 0.9594014   345\n",
      "[88]  {Giant Bicycles,                                                                   \n",
      "       WeareA2B}       => {Solex}          0.4478372  0.8091954 0.5534351 0.9785040   352\n",
      "[89]  {Giant Bicycles,                                                                   \n",
      "       Solex}          => {WeareA2B}       0.4478372  0.7379455 0.6068702 0.9618991   352\n",
      "[90]  {Solex,                                                                            \n",
      "       WeareA2B}       => {Giant Bicycles} 0.4478372  0.7111111 0.6297710 0.9554416   352\n",
      "[91]  {Norco Bicycles,                                                                   \n",
      "       OHM Cycles,                                                                       \n",
      "       Trek Bicycles}  => {Giant Bicycles} 0.2061069  0.6750000 0.3053435 0.9069231   162\n",
      "[92]  {Giant Bicycles,                                                                   \n",
      "       Norco Bicycles,                                                                   \n",
      "       OHM Cycles}     => {Trek Bicycles}  0.2061069  0.6352941 0.3244275 0.8745029   162\n",
      "[93]  {Giant Bicycles,                                                                   \n",
      "       Norco Bicycles,                                                                   \n",
      "       Trek Bicycles}  => {OHM Cycles}     0.2061069  0.6254826 0.3295165 0.9020722   162\n",
      "[94]  {Giant Bicycles,                                                                   \n",
      "       OHM Cycles,                                                                       \n",
      "       Trek Bicycles}  => {Norco Bicycles} 0.2061069  0.6113208 0.3371501 0.9100343   162\n",
      "[95]  {Norco Bicycles,                                                                   \n",
      "       OHM Cycles,                                                                       \n",
      "       Trek Bicycles}  => {WeareA2B}       0.2086514  0.6833333 0.3053435 0.8907131   164\n",
      "[96]  {Norco Bicycles,                                                                   \n",
      "       OHM Cycles,                                                                       \n",
      "       WeareA2B}       => {Trek Bicycles}  0.2086514  0.6235741 0.3346056 0.8583700   164\n",
      "[97]  {Norco Bicycles,                                                                   \n",
      "       Trek Bicycles,                                                                    \n",
      "       WeareA2B}       => {OHM Cycles}     0.2086514  0.6235741 0.3346056 0.8993198   164\n",
      "[98]  {OHM Cycles,                                                                       \n",
      "       Trek Bicycles,                                                                    \n",
      "       WeareA2B}       => {Norco Bicycles} 0.2086514  0.6096654 0.3422392 0.9075701   164\n",
      "[99]  {Norco Bicycles,                                                                   \n",
      "       OHM Cycles,                                                                       \n",
      "       Trek Bicycles}  => {Solex}          0.2404580  0.7875000 0.3053435 0.9522692   189\n",
      "[100] {Norco Bicycles,                                                                   \n",
      "       OHM Cycles,                                                                       \n",
      "       Solex}          => {Trek Bicycles}  0.2404580  0.6517241 0.3689567 0.8971194   189\n"
     ]
    }
   ],
   "source": [
    "inspect(association.rules[1:100])"
   ]
  },
  {
   "cell_type": "markdown",
   "metadata": {},
   "source": [
    "There are 6 brands that are sold by the company.\n",
    "The above Association rules help understand which brands got brought together by the customers."
   ]
  },
  {
   "cell_type": "markdown",
   "metadata": {},
   "source": [
    "For more specific insights one can generate rules using 'product_id' instead of 'brand' of products."
   ]
  },
  {
   "cell_type": "code",
   "execution_count": null,
   "metadata": {},
   "outputs": [],
   "source": []
  }
 ],
 "metadata": {
  "kernelspec": {
   "display_name": "R",
   "language": "R",
   "name": "ir"
  },
  "language_info": {
   "codemirror_mode": "r",
   "file_extension": ".r",
   "mimetype": "text/x-r-source",
   "name": "R",
   "pygments_lexer": "r",
   "version": "3.6.1"
  }
 },
 "nbformat": 4,
 "nbformat_minor": 4
}
